{
 "cells": [
  {
   "cell_type": "code",
   "execution_count": null,
   "id": "193e7ef2",
   "metadata": {},
   "outputs": [],
   "source": [
    "!pip install opencv-python pytesseract pyttsx3\n",
    "\n"
   ]
  },
  {
   "cell_type": "code",
   "execution_count": null,
   "id": "9770ee60",
   "metadata": {},
   "outputs": [],
   "source": [
    "import cv2\n",
    "import pytesseract\n",
    "import pyttsx3\n",
    "\n",
    "# Set Tesseract path for Windows\n",
    "pytesseract.pytesseract.tesseract_cmd = r'C:\\Program Files\\Tesseract-OCR\\tesseract.exe'\n",
    "\n",
    "# Initialize TTS engine\n",
    "engine = pyttsx3.init()\n",
    "engine.setProperty('rate', 150)  # Slower speech for clarity\n",
    "\n",
    "# Start webcam\n",
    "cap = cv2.VideoCapture(0)\n",
    "\n",
    "print(\"📷 Camera started. Press 'q' to stop.\")\n",
    "\n",
    "last_text = \"\"\n",
    "\n",
    "while True:\n",
    "    ret, frame = cap.read()\n",
    "    if not ret:\n",
    "        break\n",
    "\n",
    "    # Convert to grayscale\n",
    "    gray = cv2.cvtColor(frame, cv2.COLOR_BGR2GRAY)\n",
    "\n",
    "    # OCR processing\n",
    "    text = pytesseract.image_to_string(gray)\n",
    "    cleaned_text = text.strip()\n",
    "\n",
    "    if cleaned_text and cleaned_text != last_text:\n",
    "        print(\"📝 Text Detected:\")\n",
    "        print(cleaned_text)\n",
    "        print(\"-\" * 40)\n",
    "        engine.say(cleaned_text)\n",
    "        engine.runAndWait()\n",
    "        last_text = cleaned_text\n",
    "\n",
    "    # Display the video frame\n",
    "    cv2.imshow(\"Live OCR Reader\", frame)\n",
    "\n",
    "    # Quit on 'q'\n",
    "    if cv2.waitKey(1) & 0xFF == ord('q'):\n",
    "        break\n",
    "\n",
    "# Cleanup\n",
    "cap.release()\n",
    "cv2.destroyAllWindows()\n"
   ]
  },
  {
   "cell_type": "code",
   "execution_count": null,
   "id": "1909b850",
   "metadata": {},
   "outputs": [],
   "source": []
  }
 ],
 "metadata": {
  "kernelspec": {
   "display_name": "Python 3",
   "language": "python",
   "name": "python3"
  },
  "language_info": {
   "codemirror_mode": {
    "name": "ipython",
    "version": 3
   },
   "file_extension": ".py",
   "mimetype": "text/x-python",
   "name": "python",
   "nbconvert_exporter": "python",
   "pygments_lexer": "ipython3",
   "version": "3.10.11"
  }
 },
 "nbformat": 4,
 "nbformat_minor": 5
}
